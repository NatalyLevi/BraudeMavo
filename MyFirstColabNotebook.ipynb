{
  "nbformat": 4,
  "nbformat_minor": 0,
  "metadata": {
    "colab": {
      "provenance": [],
      "authorship_tag": "ABX9TyP4J9v8FY2mQbtasteOtYvh",
      "include_colab_link": true
    },
    "kernelspec": {
      "name": "python3",
      "display_name": "Python 3"
    },
    "language_info": {
      "name": "python"
    }
  },
  "cells": [
    {
      "cell_type": "markdown",
      "metadata": {
        "id": "view-in-github",
        "colab_type": "text"
      },
      "source": [
        "<a href=\"https://colab.research.google.com/github/NatalyLevi/BraudeMavo/blob/main/MyFirstColabNotebook.ipynb\" target=\"_parent\"><img src=\"https://colab.research.google.com/assets/colab-badge.svg\" alt=\"Open In Colab\"/></a>"
      ]
    },
    {
      "cell_type": "code",
      "execution_count": 1,
      "metadata": {
        "colab": {
          "base_uri": "https://localhost:8080/"
        },
        "id": "l_O73bk3z13-",
        "outputId": "8e3e723b-538d-412f-9615-1c109b24f2ca"
      },
      "outputs": [
        {
          "output_type": "stream",
          "name": "stdout",
          "text": [
            "Sun Mar 12 12:38:11 2023\n"
          ]
        }
      ],
      "source": []
    },
    {
      "cell_type": "markdown",
      "source": [
        "\n",
        "$\\sqrt{3x-1}+(x+1)^2$"
      ],
      "metadata": {
        "id": "zeA-5S1X3r0b"
      }
    },
    {
      "cell_type": "code",
      "source": [],
      "metadata": {
        "id": "OrdaIErI4gVW"
      },
      "execution_count": null,
      "outputs": []
    }
  ]
}